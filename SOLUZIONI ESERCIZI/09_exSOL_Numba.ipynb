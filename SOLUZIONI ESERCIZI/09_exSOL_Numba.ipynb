{
 "cells": [
  {
   "cell_type": "markdown",
   "metadata": {},
   "source": [
    "## Exercise 1\n",
    "\n",
    "Create a vectorized version of log and exp math function for 1D array A = [2, 5, 10, 3, 8]\n",
    "\n",
    "Results should be: \n",
    "+ [0.6931472 1.609438  2.3025851 1.0986123 2.0794415]\n",
    "+ [7.3890562e+00 1.4841316e+02 2.2026465e+04 2.0085537e+01 2.9809580e+03]"
   ]
  },
  {
   "cell_type": "code",
   "execution_count": 2,
   "metadata": {},
   "outputs": [],
   "source": [
    "import os\n",
    "import numpy as np\n",
    "import math\n",
    "import matplotlib.pyplot as plt\n",
    "os.environ[\"NUMBA_ENABLE_CUDASIM\"] = \"1\"\n",
    "from numba import jit, njit, vectorize, cuda"
   ]
  },
  {
   "cell_type": "code",
   "execution_count": 3,
   "metadata": {},
   "outputs": [
    {
     "name": "stdout",
     "output_type": "stream",
     "text": [
      "[0.6931472 1.609438  2.3025851 1.0986123 2.0794415]\n",
      "[7.3890562e+00 1.4841316e+02 2.2026465e+04 2.0085537e+01 2.9809580e+03]\n"
     ]
    }
   ],
   "source": [
    "import numpy as np\n",
    "from numba import vectorize\n",
    "\n",
    "@vectorize()\n",
    "def vec_log(x):\n",
    "    return np.log(x)\n",
    "\n",
    "@vectorize()\n",
    "def vec_exp(x):\n",
    "    return np.exp(x)\n",
    "\n",
    "A = np.array([2,5,10,3,8]).astype(np.float32)\n",
    "print(vec_log(A))\n",
    "print(vec_exp(A))\n"
   ]
  },
  {
   "cell_type": "markdown",
   "metadata": {},
   "source": [
    "## Exerice 2\n",
    "Compute the value of a Gaussian probability density function at $x$ with $mean = 1$, $\\sigma = 1$, lower and upper bound in $(-3, 3)$ and $size = 100000$"
   ]
  },
  {
   "cell_type": "code",
   "execution_count": 4,
   "metadata": {},
   "outputs": [
    {
     "data": {
      "text/plain": [
       "array([0.00084088, 0.00084108, 0.00084128, ..., 0.33931662, 0.33927601,\n",
       "       0.33923525])"
      ]
     },
     "execution_count": 4,
     "metadata": {},
     "output_type": "execute_result"
    }
   ],
   "source": [
    "import numpy as np\n",
    "import math \n",
    "#from scipy.stats import norm\n",
    "from numba import jit\n",
    "\n",
    "@jit(nopython=True) \n",
    "def gauss_pdf(x,mu,sigma):\n",
    "    return (1/sigma*np.sqrt(2*np.pi))*(np.exp(-0.5*((x-mu)/sigma)**2))\n",
    "\n",
    "x = np.linspace(-3,3,100000).astype(np.float32)\n",
    "gauss_pdf(x,1,1)"
   ]
  },
  {
   "cell_type": "markdown",
   "metadata": {},
   "source": [
    "## Exercise 3\n",
    "\n",
    "Create a \"zero suppression\" function. A common operation when working with waveforms is to force all samples values below a certain absolute magnitude to be zero, as a way to eliminate low amplitude noise. \n",
    "Plot the data before and after the application of the zero_suppress function.\n",
    "\n",
    "$thresold = 15$"
   ]
  },
  {
   "cell_type": "code",
   "execution_count": 5,
   "metadata": {},
   "outputs": [
    {
     "data": {
      "text/plain": [
       "Text(0.5, 1.0, 'With Zero suppression')"
      ]
     },
     "execution_count": 5,
     "metadata": {},
     "output_type": "execute_result"
    },
    {
     "data": {
      "image/png": "[encoded data removed]",
      "text/plain": [
       "<Figure size 720x288 with 2 Axes>"
      ]
     },
     "metadata": {
      "needs_background": "light"
     },
     "output_type": "display_data"
    }
   ],
   "source": [
    "import matplotlib.pyplot as plt\n",
    "import numpy as np\n",
    "threshold = 15\n",
    "n = 100000\n",
    "noise = np.random.normal(size=n) * 3\n",
    "pulses = np.maximum(np.sin(np.arange(n) / (n / 23)) - 0.3, 0.0)\n",
    "data = ((pulses * 300) + noise).astype(np.int16)\n",
    "\n",
    "from numba import jit\n",
    "@jit \n",
    "def supp_data(threshold,data):\n",
    "    x = np.where(data<threshold,data,0)\n",
    "    return x\n",
    "    \n",
    "fig = plt.figure(figsize=(10,4))\n",
    "\n",
    "plt.subplot(1,2,1)\n",
    "plt.plot(data)\n",
    "plt.title(\"Without Zero suppression\")\n",
    "\n",
    "plt.subplot(1,2,2)\n",
    "plt.plot(supp_data(threshold,data))\n",
    "plt.title(\"With Zero suppression\")\n"
   ]
  },
  {
   "cell_type": "code",
   "execution_count": 6,
   "metadata": {},
   "outputs": [
    {
     "name": "stdout",
     "output_type": "stream",
     "text": [
      "[1 2 3 0 0 0]\n"
     ]
    }
   ],
   "source": [
    "import numpy as np\n",
    "a = np.array([1,2,3,4,5,6])\n",
    "print(np.where(a<4,a,0))"
   ]
  },
  {
   "cell_type": "markdown",
   "metadata": {},
   "source": [
    "## Exercise 4\n",
    "\n",
    "Calculate the Sigmoid kernel between the matrix X and Y defined as below. The Sigmoid kernel is defined as:\n",
    "\n",
    "$k(x,y) = \\tanh(\\alpha x^T y + c) $"
   ]
  },
  {
   "cell_type": "code",
   "execution_count": 7,
   "metadata": {},
   "outputs": [
    {
     "name": "stdout",
     "output_type": "stream",
     "text": [
      "[[0.60797095 0.64049468 0.60376235]\n",
      " [0.67773201 0.65699874 0.68862212]\n",
      " [0.56658585 0.55345794 0.54563078]]\n"
     ]
    }
   ],
   "source": [
    "import numpy as np\n",
    "import math\n",
    "from numba import jit, cuda\n",
    "np.random.seed(1)\n",
    "X = np.random.rand(3,3)\n",
    "Y = np.random.rand(3,3)\n",
    "\n",
    "@jit(nopython=True)\n",
    "def k(matrix1,matrix2):\n",
    "    res = np.array([[0 for x in range(3)] for y in range(3)]).astype(np.float64)  \n",
    "  \n",
    "    # explicit for loops \n",
    "    for i in range(len(matrix1)): \n",
    "        for j in range(len(matrix2[0])): \n",
    "            for k in range(len(matrix2)): \n",
    "\n",
    "                # resulted matrix \n",
    "                res[i][j] += matrix1[i][k] * matrix2[k][j]\n",
    "            res[i][j] = math.tanh(alpha*res[i][j]+c)\n",
    "    return res  \n",
    "\n",
    "alpha = 0.5\n",
    "c = 0.5\n",
    "X = X.T\n",
    "\n",
    "print(k(X,Y))\n"
   ]
  },
  {
   "cell_type": "markdown",
   "metadata": {},
   "source": [
    "## Exercise 5\n",
    "\n",
    "Create a kernel function similar to the ```double_kernel``` see during the lecture and create a new function that takes a 3 dimensional matrix as input calculating the $cos$ for each element and then returns the result. The shape of the matrix must be $256X256X256$. The matrix can be randomly generated"
   ]
  },
  {
   "cell_type": "code",
   "execution_count": 8,
   "metadata": {},
   "outputs": [
    {
     "name": "stdout",
     "output_type": "stream",
     "text": [
      "[[[0.99016193 0.98044199 0.6961724  ... 0.95005509 0.81276174 0.90886264]\n",
      "  [0.56215917 0.77895362 0.98034969 ... 0.99786403 0.89969189 0.93034827]\n",
      "  [0.5608783  0.98592395 0.56299789 ... 0.5549521  0.80429625 0.93047428]\n",
      "  ...\n",
      "  [0.64197273 0.95264479 0.9184515  ... 0.94906959 0.97234458 0.71662622]\n",
      "  [0.9587155  0.96442071 0.57825775 ... 0.87673785 0.83339746 0.96307912]\n",
      "  [0.9560278  0.96490123 0.71186912 ... 0.90934094 0.99988487 0.99773243]]\n",
      "\n",
      " [[0.94876636 0.97026211 0.99770359 ... 0.98969902 0.76776833 0.98630979]\n",
      "  [0.93588688 0.92581917 0.57772738 ... 0.97713443 0.95204533 0.5513537 ]\n",
      "  [0.97110839 0.97570203 0.86682358 ... 0.93753864 0.99013128 0.91521897]\n",
      "  ...\n",
      "  [0.7728916  0.71573008 0.88179458 ... 0.93937671 0.95243126 0.99805831]\n",
      "  [0.92816861 0.9838767  0.90545197 ... 0.58103922 0.70846445 0.60159775]\n",
      "  [0.98137349 0.99299957 0.57593088 ... 0.6321867  0.78841549 0.98947692]]\n",
      "\n",
      " [[0.95110247 0.98236388 0.69752851 ... 0.9968543  0.87613885 0.99700542]\n",
      "  [0.66231596 0.94363932 0.92322622 ... 0.69957595 0.67948455 0.97479101]\n",
      "  [0.99884157 0.71355366 0.98775728 ... 0.82741537 0.97708274 0.61601744]\n",
      "  ...\n",
      "  [0.9999761  0.99998548 0.98694038 ... 0.95948565 0.78466029 0.86178099]\n",
      "  [0.97813854 0.60427258 0.90226434 ... 0.70021981 0.79064551 0.99951267]\n",
      "  [0.88424842 0.75002544 0.73009832 ... 0.69873985 0.99763894 0.91819444]]\n",
      "\n",
      " ...\n",
      "\n",
      " [[0.99538879 0.99897828 0.81081013 ... 0.98085482 0.72190422 0.9100831 ]\n",
      "  [0.99873189 0.94958052 0.99990108 ... 0.64285961 0.72087728 0.7430833 ]\n",
      "  [0.90179572 0.79169903 0.92607426 ... 0.96720177 0.98496525 0.70440308]\n",
      "  ...\n",
      "  [0.57992504 0.94590347 0.86427852 ... 0.69204322 0.97019418 0.80964457]\n",
      "  [0.63815858 0.96748322 0.95406635 ... 0.80586056 0.93344756 0.77990883]\n",
      "  [0.64929535 0.72478877 0.94893158 ... 0.63969779 0.84116937 0.99889488]]\n",
      "\n",
      " [[0.65855031 0.79288302 0.93214778 ... 0.56029637 0.97913059 0.68839867]\n",
      "  [0.57029019 0.94353617 0.95199664 ... 0.54910039 0.91179961 0.63668315]\n",
      "  [0.97798766 0.66011001 0.91017963 ... 0.88902699 0.8506508  0.57782523]\n",
      "  ...\n",
      "  [0.75790683 0.99434928 0.94679252 ... 0.9403892  0.82174863 0.94212148]\n",
      "  [0.71938075 0.57528429 0.9723818  ... 0.80027966 0.64072281 0.56548982]\n",
      "  [0.91703659 0.99066773 0.71705565 ... 0.99399309 0.90024697 0.8892325 ]]\n",
      "\n",
      " [[0.55134966 0.76377346 0.87571809 ... 0.876719   0.59214353 0.99568873]\n",
      "  [0.91459306 0.97428876 0.58313698 ... 0.85936983 0.95453118 0.97369708]\n",
      "  [0.66888935 0.92352482 0.865286   ... 0.62258629 0.74881263 0.96795704]\n",
      "  ...\n",
      "  [0.9276558  0.9984791  0.62386253 ... 0.999937   0.83364539 0.88119806]\n",
      "  [0.5746478  0.81892938 0.93889141 ... 0.94187599 0.99747031 0.73808361]\n",
      "  [0.8330646  0.93483815 0.84488477 ... 0.88580742 0.96703764 0.87769149]]]\n"
     ]
    }
   ],
   "source": [
    "from numba import cuda, jit\n",
    "import numpy\n",
    "import math\n",
    "\n",
    "# CUDA kernel\n",
    "@cuda.jit()\n",
    "def kernel_3D(io_array):\n",
    "    x,y,z = cuda.grid(3)\n",
    "    if x < io_array.shape[0] and y < io_array.shape[1] and z < io_array.shape[2]:\n",
    "        io_array[x][y][z] = np.cos(io_array[x][y][z]) # do the computation\n",
    "\n",
    "# Host code   \n",
    "data = numpy.random.random((256,256,256))\n",
    "\n",
    "# Configure the blocks\n",
    "threadsperblock = (64,64,64) #ThreadsPerBlock must be a divisor of the data dimension: 256/(16x4x4) = 1\n",
    "blockspergrid_x = int(math.ceil(data.shape[0] / threadsperblock[0]))\n",
    "blockspergrid_y = int(math.ceil(data.shape[1] / threadsperblock[1]))\n",
    "blockspergrid_z = int(math.ceil(data.shape[2] / threadsperblock[2]))\n",
    "\n",
    "blockspergrid = (blockspergrid_x, blockspergrid_y, blockspergrid_z)\n",
    "\n",
    "kernel_3D[blockspergrid, threadsperblock](data)\n",
    "print(data)"
   ]
  },
  {
   "cell_type": "markdown",
   "metadata": {},
   "source": [
    "## Exercise 6\n",
    "\n",
    "Create a matrix multiplication kernel function, called ```matmul``` that takes as input two 2D matrices:\n",
    "+ A of shape $24x12$\n",
    "+ B of shape $12x22$\n",
    "and that computes the multiplication and put the results into a third matrix C of shape $24x12$\n",
    "\n",
    "A and B must be randomly generated and only int values are allowed.\n"
   ]
  },
  {
   "cell_type": "code",
   "execution_count": 9,
   "metadata": {},
   "outputs": [
    {
     "name": "stdout",
     "output_type": "stream",
     "text": [
      "[[144. 144. 144. 144. 144. 144. 144. 144. 144. 144. 144. 144. 144. 144.\n",
      "  144. 144. 144. 144. 144. 144. 144. 144.]\n",
      " [144. 144. 144. 144. 144. 144. 144. 144. 144. 144. 144. 144. 144. 144.\n",
      "  144. 144. 144. 144. 144. 144. 144. 144.]\n",
      " [144. 144. 144. 144. 144. 144. 144. 144. 144. 144. 144. 144. 144. 144.\n",
      "  144. 144. 144. 144. 144. 144. 144. 144.]\n",
      " [144. 144. 144. 144. 144. 144. 144. 144. 144. 144. 144. 144. 144. 144.\n",
      "  144. 144. 144. 144. 144. 144. 144. 144.]\n",
      " [144. 144. 144. 144. 144. 144. 144. 144. 144. 144. 144. 144. 144. 144.\n",
      "  144. 144. 144. 144. 144. 144. 144. 144.]\n",
      " [144. 144. 144. 144. 144. 144. 144. 144. 144. 144. 144. 144. 144. 144.\n",
      "  144. 144. 144. 144. 144. 144. 144. 144.]\n",
      " [144. 144. 144. 144. 144. 144. 144. 144. 144. 144. 144. 144. 144. 144.\n",
      "  144. 144. 144. 144. 144. 144. 144. 144.]\n",
      " [144. 144. 144. 144. 144. 144. 144. 144. 144. 144. 144. 144. 144. 144.\n",
      "  144. 144. 144. 144. 144. 144. 144. 144.]\n",
      " [144. 144. 144. 144. 144. 144. 144. 144. 144. 144. 144. 144. 144. 144.\n",
      "  144. 144. 144. 144. 144. 144. 144. 144.]\n",
      " [144. 144. 144. 144. 144. 144. 144. 144. 144. 144. 144. 144. 144. 144.\n",
      "  144. 144. 144. 144. 144. 144. 144. 144.]\n",
      " [144. 144. 144. 144. 144. 144. 144. 144. 144. 144. 144. 144. 144. 144.\n",
      "  144. 144. 144. 144. 144. 144. 144. 144.]\n",
      " [144. 144. 144. 144. 144. 144. 144. 144. 144. 144. 144. 144. 144. 144.\n",
      "  144. 144. 144. 144. 144. 144. 144. 144.]\n",
      " [144. 144. 144. 144. 144. 144. 144. 144. 144. 144. 144. 144. 144. 144.\n",
      "  144. 144. 144. 144. 144. 144. 144. 144.]\n",
      " [144. 144. 144. 144. 144. 144. 144. 144. 144. 144. 144. 144. 144. 144.\n",
      "  144. 144. 144. 144. 144. 144. 144. 144.]\n",
      " [144. 144. 144. 144. 144. 144. 144. 144. 144. 144. 144. 144. 144. 144.\n",
      "  144. 144. 144. 144. 144. 144. 144. 144.]\n",
      " [144. 144. 144. 144. 144. 144. 144. 144. 144. 144. 144. 144. 144. 144.\n",
      "  144. 144. 144. 144. 144. 144. 144. 144.]\n",
      " [144. 144. 144. 144. 144. 144. 144. 144. 144. 144. 144. 144. 144. 144.\n",
      "  144. 144. 144. 144. 144. 144. 144. 144.]\n",
      " [144. 144. 144. 144. 144. 144. 144. 144. 144. 144. 144. 144. 144. 144.\n",
      "  144. 144. 144. 144. 144. 144. 144. 144.]\n",
      " [144. 144. 144. 144. 144. 144. 144. 144. 144. 144. 144. 144. 144. 144.\n",
      "  144. 144. 144. 144. 144. 144. 144. 144.]\n",
      " [144. 144. 144. 144. 144. 144. 144. 144. 144. 144. 144. 144. 144. 144.\n",
      "  144. 144. 144. 144. 144. 144. 144. 144.]\n",
      " [144. 144. 144. 144. 144. 144. 144. 144. 144. 144. 144. 144. 144. 144.\n",
      "  144. 144. 144. 144. 144. 144. 144. 144.]\n",
      " [144. 144. 144. 144. 144. 144. 144. 144. 144. 144. 144. 144. 144. 144.\n",
      "  144. 144. 144. 144. 144. 144. 144. 144.]\n",
      " [144. 144. 144. 144. 144. 144. 144. 144. 144. 144. 144. 144. 144. 144.\n",
      "  144. 144. 144. 144. 144. 144. 144. 144.]\n",
      " [144. 144. 144. 144. 144. 144. 144. 144. 144. 144. 144. 144. 144. 144.\n",
      "  144. 144. 144. 144. 144. 144. 144. 144.]]\n"
     ]
    }
   ],
   "source": [
    "from __future__ import division\n",
    "from numba import cuda\n",
    "import numpy\n",
    "import math\n",
    "\n",
    "# complete the code\n",
    "@cuda.jit\n",
    "def matmul(A, B, C):\n",
    "    \"\"\"Perform matrix multiplication of C = A * B\n",
    "    \"\"\"\n",
    "    row, col = cuda.grid(2)\n",
    "    if row < C.shape[0] and col < C.shape[1]:\n",
    "        tmp = 0.\n",
    "        for k in range(A.shape[1]):\n",
    "            tmp += A[row, k] * B[k, col]\n",
    "        C[row, col] = tmp\n",
    "\n",
    "\n",
    "# Initialize the data arrays\n",
    "A = numpy.full((24, 12), 3, numpy.float) # matrix containing all 3's\n",
    "B = numpy.full((12, 22), 4, numpy.float) # matrix containing all 4's\n",
    "\n",
    "# Copy the arrays to the device\n",
    "A_global_mem = cuda.to_device(A)\n",
    "B_global_mem = cuda.to_device(B)\n",
    "\n",
    "# Allocate memory on the device for the result\n",
    "C_global_mem = cuda.device_array((24, 22))\n",
    "\n",
    "# Configure the blocks\n",
    "threadsperblock = (16, 16)\n",
    "blockspergrid_x = int(math.ceil(A.shape[0] / threadsperblock[0]))\n",
    "blockspergrid_y = int(math.ceil(B.shape[1] / threadsperblock[1]))\n",
    "blockspergrid = (blockspergrid_x, blockspergrid_y)\n",
    "\n",
    "# Start the kernel \n",
    "matmul[blockspergrid, threadsperblock](A_global_mem, B_global_mem, C_global_mem)\n",
    "\n",
    "# Copy the result back to the host\n",
    "C = C_global_mem.copy_to_host()\n",
    "\n",
    "print(C)        \n",
    "\n"
   ]
  }
 ],
 "metadata": {
  "kernelspec": {
   "display_name": "Python 3",
   "language": "python",
   "name": "python3"
  },
  "language_info": {
   "codemirror_mode": {
    "name": "ipython",
    "version": 3
   },
   "file_extension": ".py",
   "mimetype": "text/x-python",
   "name": "python",
   "nbconvert_exporter": "python",
   "pygments_lexer": "ipython3",
   "version": "3.7.4"
  }
 },
 "nbformat": 4,
 "nbformat_minor": 2
}
