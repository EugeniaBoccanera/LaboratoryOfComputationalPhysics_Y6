{
 "cells": [
  {
   "cell_type": "markdown",
   "metadata": {},
   "source": [
    "1\\. Write a function that converts number representation, bin<->dec<->hex. (Clearly using the corresponding python built-in functions is not fair..)"
   ]
  },
  {
   "cell_type": "code",
   "execution_count": 18,
   "metadata": {},
   "outputs": [
    {
     "name": "stdout",
     "output_type": "stream",
     "text": [
      "Ob\n",
      "the decimal must be positive\n",
      "numero dopo la funzione: 21\n",
      "42 in codice binario diventa: None\n",
      "VERIFICA: Binary representation of 42 : 0b101010\n"
     ]
    }
   ],
   "source": [
    "#DA DECIMALE A BINARIO (non funziona)\n",
    "\n",
    "binary_digits=[]\n",
    "def decimal_to_binary(decimal):\n",
    "\n",
    "    if decimal >0:\n",
    "        binary_digits.append(str(decimal % 2))  # rendo il mio numero una stringa, e dico di considerare il resto della divizione per due\n",
    "        decimal //= 2  # faccio la divisione intera per 2\n",
    "    if decimal == 0:       # se ol numero inserito è zero, mi printa zero\n",
    "        return '0b0'\n",
    "    else:\n",
    "        print(\"the decimal must be positive\")\n",
    "    print( \"numero dopo la funzione:\", decimal)\n",
    "\n",
    "binary_representation = 'Ob' + ''.join(binary_digits[::-1])  # concateno gli elementi della mia stringa in ordine inverso, per indicare il numero corretto in binario\n",
    "print ( binary_representation)\n",
    "decimal= 42\n",
    "n_binary= decimal_to_binary(decimal)\n",
    "print (decimal, 'in codice binario diventa:', n_binary)\n",
    "\n",
    "#VERIFICA\n",
    "a = bin(decimal)\n",
    "print('VERIFICA: Binary representation of', decimal, ':', a)\n",
    "\n"
   ]
  },
  {
   "cell_type": "code",
   "execution_count": 27,
   "metadata": {},
   "outputs": [
    {
     "name": "stdout",
     "output_type": "stream",
     "text": [
      "Il numero binario corrispondente a 42 è: 101010\n"
     ]
    }
   ],
   "source": [
    "def decimale_a_binario(numero):\n",
    "    if numero == 0:\n",
    "        return '0b'\n",
    "    \n",
    "    binario = ''\n",
    "    while numero > 0:\n",
    "        resto = numero % 2\n",
    "        binario = str(resto) + binario\n",
    "        numero = numero // 2\n",
    "    \n",
    "    return binario\n",
    "\n",
    "numero_decimale = 42\n",
    "binario = decimale_a_binario(numero_decimale)\n",
    "print(f\"Il numero binario corrispondente a {numero_decimale} è: {binario}\")"
   ]
  },
  {
   "cell_type": "code",
   "execution_count": 54,
   "metadata": {},
   "outputs": [
    {
     "name": "stdout",
     "output_type": "stream",
     "text": [
      "305 in esadecimale diventa: 131\n"
     ]
    }
   ],
   "source": [
    "#DA DECIMALE A EXADECIMALE\n",
    "def decimale_a_esadecimale(decimale):\n",
    "    if decimale < 0:\n",
    "        raise ValueError(\"Input deve essere un numero decimale non negativo.\")\n",
    "    elif decimale == 0:\n",
    "        return '0'\n",
    "\n",
    "    esadecimale = \"\"\n",
    "    while decimale > 0:\n",
    "        resto = decimale % 16\n",
    "        if resto < 10:\n",
    "            esadecimale = str(resto) + esadecimale\n",
    "        else:\n",
    "            esadecimale = chr(ord('A') + resto - 10) + esadecimale\n",
    "        decimale //= 16\n",
    "\n",
    "    return esadecimale\n",
    "\n",
    "# Esempio d'uso:\n",
    "decimale = 305\n",
    "esadecimale = decimale_a_esadecimale(decimale)\n",
    "print(decimale, 'in esadecimale diventa:', esadecimale)"
   ]
  },
  {
   "cell_type": "code",
   "execution_count": 61,
   "metadata": {},
   "outputs": [
    {
     "name": "stdout",
     "output_type": "stream",
     "text": [
      "1110101  in decimale diventa =  117\n"
     ]
    }
   ],
   "source": [
    "# DA BINARIO A DECIMALE \n",
    "\n",
    "def binary_to_decimal(binary):\n",
    "    decimal = 0\n",
    "    binary = binary[::-1]                      # inverto il mio numero binario\n",
    "   \n",
    "    for i in range (len(binary)):\n",
    "        if binary[i] == '1':\n",
    "            decimal += 2**i\n",
    "    return decimal\n",
    "\n",
    "n_binario = 1110101\n",
    "n_decimale= binary_to_decimal(str(n_binario))\n",
    "print (n_binario, ' in decimale diventa = ', n_decimale)"
   ]
  },
  {
   "cell_type": "markdown",
   "metadata": {},
   "source": [
    "2\\. Write a function that converts a 32 bit word into a single precision floating point (i.e. interprets the various bits as sign, mantissa and exponent)"
   ]
  },
  {
   "cell_type": "code",
   "execution_count": 33,
   "metadata": {},
   "outputs": [
    {
     "name": "stdout",
     "output_type": "stream",
     "text": [
      "float_value: 8.467906009524572e+32\n"
     ]
    }
   ],
   "source": [
    "import struct as s\n",
    "\n",
    "def word_to_float (word):\n",
    "    #assuming word is a 32-bit integer\n",
    "    # pack the 32 bit into its binary representation\n",
    "    binary_data = s.pack('>I', word)\n",
    "    #unpack the binary data as a single precision floating point number\n",
    "    float_value = s.unpack('f', binary_data)[0]\n",
    "\n",
    "    return float_value\n",
    "\n",
    "\n",
    "word=10102\n",
    "float_value = word_to_float(word)\n",
    "print ('float_value:', float_value)\n"
   ]
  },
  {
   "cell_type": "markdown",
   "metadata": {},
   "source": [
    "3\\. Write a program to determine the underflow and overflow limits (within a factor of 2) for python on your computer. \n",
    "\n",
    "**Tips**: define two variables inizialized to 1 and halve/double them enough time to exceed the under/over-flow limits  "
   ]
  },
  {
   "cell_type": "code",
   "execution_count": 28,
   "metadata": {},
   "outputs": [
    {
     "name": "stdout",
     "output_type": "stream",
     "text": [
      "Underflow limit: <function find_underflow at 0x00000210D76336A0>\n",
      "Overflow limit <function find_overflow at 0x00000210D8319940>\n"
     ]
    }
   ],
   "source": [
    "#L'obiettivo di questo compito è scrivere un programma Python che determini i limiti di underflow e overflow (entro un fattore di 2)\n",
    "# sulla tua specifica macchina. I limiti di underflow e overflow si verificano quando i valori in virgola mobile\n",
    "# diventano troppo piccoli (underflow) o troppo grandi (overflow) per essere rappresentati con precisione dalla macchina.\n",
    "\n",
    "# NON PENSO VADA FATTO COSì\n",
    "\n",
    "def find_underflow():   #find_underflow dimezza il valore finché il risultato diventa zero, \n",
    "    value = 1.0\n",
    "    while value / 2 != 0:\n",
    "        value /= 2\n",
    "    return value\n",
    "\n",
    "def find_overflow():   #find_overflow raddoppia il valore finché il risultato diventa infinito\n",
    "    value = 1.0\n",
    "    while value *2 != float('inf'):\n",
    "        value *= 2\n",
    "    return value\n",
    "\n",
    "print('Underflow limit:', find_underflow)\n",
    "print('Overflow limit', find_overflow)"
   ]
  },
  {
   "cell_type": "markdown",
   "metadata": {},
   "source": [
    "4\\. Write a program to determine the machine precision\n",
    "\n",
    "**Tips**: define a new variable by adding a smaller and smaller value (proceeding similarly to prob. 2) to an original variable and check the point where the two are the same "
   ]
  },
  {
   "cell_type": "code",
   "execution_count": 36,
   "metadata": {},
   "outputs": [
    {
     "name": "stdout",
     "output_type": "stream",
     "text": [
      "Machine Precisione : 2.220446049250313e-16\n"
     ]
    }
   ],
   "source": [
    "#Inizierai con un valore e sommerai un valore più piccolo a esso finché il risultato rimane invariato. \n",
    "#La differenza tra il risultato e il valore originale sarà un'indicazione della precisione di macchina\n",
    "\n",
    "def find_machine_precision():\n",
    "    original_value = 1.0\n",
    "    precision =1.0\n",
    "\n",
    "    while (original_value + precision) - original_value != 0:\n",
    "        precision /= 2\n",
    "\n",
    "    return precision *2  # moltiplico per 2 per ottenere il valore reale della precisione della macchina\n",
    " \n",
    "machine_precision= find_machine_precision()\n",
    "print(f\"Machine Precisione : {machine_precision}\")\n",
    "\n",
    "#find_machine_precision inizia con un valore original_value uguale a 1.0 e aggiunge un valore sempre più piccolo (precision) \n",
    "# fino a quando il risultato della somma non cambia più. Quando la differenza tra il nuovo risultato e l'original_value diventa zero,\n",
    "#  hai trovato la precisione di macchina. Moltiplichiamo per 2 alla fine per ottenere il valore effettivo di precisione di macchina.\n",
    "\n",
    "#L'output del programma sarà un'approssimazione della precisione di macchina sulla tua \n",
    "#macchina. Ricorda che la precisione di macchina può variare tra diversi sistemi e ambienti di calcolo."
   ]
  },
  {
   "cell_type": "markdown",
   "metadata": {},
   "source": [
    "5\\. Write a function that takes in input three parameters $a$, $b$ and $c$ and prints out the two solutions to the quadratic equation $ax^2+bx+c=0$ using the standard formula:\n",
    "$$\n",
    "x=\\frac{-b\\pm\\sqrt{b^2-4ac}}{2a}\n",
    "$$\n",
    "\n",
    "(a) use the program to compute the solution for $a=0.001$, $b=1000$ and $c=0.001$\n",
    "\n",
    "(b) re-express the standard solution formula by multiplying top and bottom by $-b\\mp\\sqrt{b^2-4ac}$ and again find the solution for $a=0.001$, $b=1000$ and $c=0.001$. How does it compare with what previously obtained? Why?\n",
    "\n",
    "(c) write a function that compute the roots of a quadratic equation accurately in all cases"
   ]
  },
  {
   "cell_type": "code",
   "execution_count": 53,
   "metadata": {},
   "outputs": [
    {
     "name": "stdout",
     "output_type": "stream",
     "text": [
      " A) The solutions of the quadratic formula are: (-9.999894245993346e-07, -999999.999999)\n",
      " B) The solutions of the quadratic formula are: (-1.000000000001e-06, -1000010.5755125057)\n"
     ]
    },
    {
     "data": {
      "text/plain": [
       "(-9.999894245993346e-07, -999999.999999)"
      ]
     },
     "execution_count": 53,
     "metadata": {},
     "output_type": "execute_result"
    }
   ],
   "source": [
    "# a)\n",
    "import math as m\n",
    "def sol_quadratic_equation(a, b, c):\n",
    "    delta= (b**2)-4*a*c\n",
    "    if delta <0:\n",
    "        print(\" The function has no solutions because it's always positive\")\n",
    "    else:\n",
    "        sroot_delta1= m.sqrt(delta)\n",
    "    x1a= (- b + sroot_delta1)/(2 * a)\n",
    "    x2a= (- b - sroot_delta1)/( 2* a)\n",
    "   \n",
    "    return x1a, x2a \n",
    "\n",
    "soluzionia=sol_quadratic_equation(0.001, 1000, 0.001)\n",
    "print (\" A) The solutions of the quadratic formula are:\", soluzionia)\n",
    "\n",
    "\n",
    "#b)\n",
    "def well_defined_function(a,b, c):\n",
    "    delta = (b**2)-4*a*c\n",
    "    if delta <0:\n",
    "        print(\" The function has no solutions because it's always positive\")\n",
    "    else:\n",
    "        sroot_delta2= m.sqrt(delta)\n",
    "    x1b= (2*c)/(- b - sroot_delta2)\n",
    "    x2b= (2*c)/(- b + sroot_delta2)\n",
    "    return x1b, x2b\n",
    "\n",
    "soluzionib=well_defined_function(0.001, 1000, 0.001)\n",
    "print (\" B) The solutions of the quadratic formula are:\", soluzionib)\n",
    "\n",
    "\n",
    "#c)\n",
    "def quadratic_roots(a, b, c):\n",
    "    delta3= b**2 -4*a*c\n",
    "    if delta3 >0:\n",
    "        #two real and dinstinct roots\n",
    "        root1=(-b + m.sqrt(delta3))/(2*a)\n",
    "        root2= (-b -m.sqrt(delta3))/(2*a)\n",
    "        return root1, root2\n",
    "    elif delta3 == 0:\n",
    "        #one real root (a repeated root)\n",
    "        root= -b/(2*a)\n",
    "        return root\n",
    "    else:\n",
    "        #complex root\n",
    "        real_p= -b/ (2*a)\n",
    "        imaginary_p= m.sqrt(abs(delta3))/(2*a)\n",
    "        return complex(real_p, imaginary_p), complex(real_p, -imaginary_p)\n",
    "    \n",
    "quadratic_roots(0.001, 1000, 0.001)"
   ]
  },
  {
   "cell_type": "markdown",
   "metadata": {},
   "source": [
    "6\\. Write a program that implements the function $f(x)=x(x−1)$\n",
    "\n",
    "(a) Calculate the derivative of the function at the point $x = 1$ using the derivative definition:\n",
    "\n",
    "$$\n",
    "\\frac{{\\rm d}f}{{\\rm d}x} = \\lim_{\\delta\\to0} \\frac{f(x+\\delta)-f(x)}{\\delta}\n",
    "$$\n",
    "\n",
    "with $\\delta = 10^{−2}$. Calculate the true value of the same derivative analytically and compare with the answer your program gives. The two will not agree perfectly. Why not?\n",
    "\n",
    "(b) Repeat the calculation for $\\delta = 10^{−4}, 10^{−6}, 10^{−8}, 10^{−10}, 10^{−12}$ and $10^{−14}$. How does the accuracy scales with $\\delta$?"
   ]
  },
  {
   "cell_type": "code",
   "execution_count": 17,
   "metadata": {},
   "outputs": [
    {
     "name": "stdout",
     "output_type": "stream",
     "text": [
      "Delta=  0.01\n",
      "numerical derivative:  1.01000000000000\n",
      "Delta=  0.0001\n",
      "numerical derivative:  1.00009999999989\n",
      "Delta=  1e-06\n",
      "numerical derivative:  1.00000099991773\n",
      "Delta=  1e-08\n",
      "numerical derivative:  1.00000000392253\n",
      "Delta=  1e-10\n",
      "numerical derivative:  1.00000008284037\n",
      "Delta=  1e-12\n",
      "numerical derivative:  1.00008890058334\n",
      "Delta=  1e-14\n",
      "numerical derivative:  0.999200722162651\n",
      "\n",
      " The accuracy scales with delta, smaller values of delta \n",
      " will result in more accurate approximations of the derivative. \n",
      "The analitic derivative is:  2*y - 1 with value2:  1\n",
      "Notice that the two values are not perfectly the same\n",
      "\n"
     ]
    }
   ],
   "source": [
    "# a)\n",
    "import sympy as sp\n",
    "def f(x):\n",
    "    return x*(x-1)\n",
    "x= 1\n",
    "\n",
    "def numerical_derivative(x, delta):\n",
    "    funzione= (f(x+ delta) - f(x))/ delta\n",
    "    num_D= sp.limit (funzione, delta, 0)\n",
    "    return num_D\n",
    "\n",
    "num_D=numerical_derivative(x, delta)\n",
    "deltas= [10**(-2),10**(-4), 10**(-6), 10**(-8), 10**(-10), 10**(-12), 10**(-14)]\n",
    "\n",
    "for delta in deltas:\n",
    "    approx_derivative=numerical_derivative(x, delta)\n",
    "    print (\"Delta= \", delta )\n",
    "    print (\"numerical derivative: \", approx_derivative)\n",
    "\n",
    "print (\"\\n The accuracy scales with delta, smaller values of delta \\n will result in more accurate approximations of the derivative. \")\n",
    "\n",
    "\n",
    "\n",
    "# calcolo il valore della derivata analiticamente\n",
    "y= sp.symbols ('y')  # definisco la variabile simbolica\n",
    "g= y *(y-1)\n",
    "g_prime= sp.diff (g, y)\n",
    "\n",
    "y= 1\n",
    "val = 2 * y - 1\n",
    "\n",
    "print (\"The analitic derivative is: \", g_prime, \"with value2: \", val)\n",
    "print (\"Notice that the two values are not perfectly the same\")\n",
    "print ()"
   ]
  },
  {
   "cell_type": "markdown",
   "metadata": {},
   "source": [
    "7\\. Consider the integral of the semicircle of radius 1:\n",
    "$$\n",
    "I=\\int_{-1}^{1} \\sqrt(1-x^2) {\\rm d}x\n",
    "$$\n",
    "which it's known to be $I=\\frac{\\pi}{2}=1.57079632679...$.\n",
    "Alternatively we can use the Riemann definition of the integral:\n",
    "$$\n",
    "I=\\lim_{N\\to\\infty} \\sum_{k=1}^{N} h y_k \n",
    "$$\n",
    "\n",
    "with $h=2/N$ the width of each of the $N$ slices the domain is divided into and where\n",
    "$y_k$ is the value of the function at the $k-$th slice.\n",
    "\n",
    "(a) Write a programe to compute the integral with $N=100$. How does the result compares to the true value?\n",
    "\n",
    "(b) How much can $N$ be increased if the computation needs to be run in less than a second? What is the gain in running it for 1 minute? \n"
   ]
  },
  {
   "cell_type": "code",
   "execution_count": 22,
   "metadata": {},
   "outputs": [
    {
     "name": "stdout",
     "output_type": "stream",
     "text": [
      "Approximated Integral: 1.5691342555492505\n",
      "True Value: 1.5707963267948966\n",
      "Error: 0.0016620712456461018\n",
      "execution time:0.0033159255981445312\n",
      "N_1min= 1809420\n"
     ]
    }
   ],
   "source": [
    "#This program defines the semicircle function, divides the interval into NN slices, \n",
    "#calculates the Riemann sum, and compares the result to the true value of the integral.\n",
    "# When you run this code, you'll see how the approximated integral compares to the\n",
    "# true value for N=100N=100. The error will be relatively small, and it should provide\n",
    "# a good approximation to the integral.\n",
    "# a)\n",
    "import math as m\n",
    "import time as t\n",
    "start_time= t.time()    # ci serve per la parte b\n",
    "\n",
    "def semicircle(x):              # function to compute the value of the semicircle at a given x\n",
    "    return m.sqrt(1- x**2)\n",
    "\n",
    "N= 100\n",
    "h= 2 / N   #width of each slice\n",
    "\n",
    "integral_sum = 0  #initialize the sum\n",
    "for i in range ( 1, N+1):\n",
    "    x_i= -1 + i *h\n",
    "    y_i= semicircle(x_i)\n",
    "    integral_sum+= h * y_i\n",
    "\n",
    "true_value= m.pi / 2  # true value of the integral\n",
    "print (f\"Approximated Integral: {integral_sum}\")\n",
    "print (f\"True Value: {true_value}\")\n",
    "print (f\"Error: {abs(true_value -integral_sum)}\")\n",
    "\n",
    "# b)\n",
    "end_time= t.time()\n",
    "execution_time= end_time -start_time \n",
    "print (f\"execution time:{execution_time}\")\n",
    "\n",
    "N_1sec= int (100 *(1/execution_time))\n",
    "N_1min= 60 *N_1sec\n",
    "print (\"N_1min=\", N_1min)\n"
   ]
  }
 ],
 "metadata": {
  "kernelspec": {
   "display_name": "Python 3 (ipykernel)",
   "language": "python",
   "name": "python3"
  },
  "language_info": {
   "codemirror_mode": {
    "name": "ipython",
    "version": 3
   },
   "file_extension": ".py",
   "mimetype": "text/x-python",
   "name": "python",
   "nbconvert_exporter": "python",
   "pygments_lexer": "ipython3",
   "version": "3.11.5"
  }
 },
 "nbformat": 4,
 "nbformat_minor": 2
}
