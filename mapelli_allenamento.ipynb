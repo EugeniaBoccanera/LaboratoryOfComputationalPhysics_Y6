{
 "cells": [
  {
   "cell_type": "markdown",
   "metadata": {},
   "source": [
    "CONTAINERS\n"
   ]
  },
  {
   "cell_type": "code",
   "execution_count": 7,
   "metadata": {},
   "outputs": [
    {
     "name": "stdout",
     "output_type": "stream",
     "text": [
      "21.0\n",
      "[1.0, 2.0, 3.0]\n",
      "3\n",
      "[1.0, 2.0, 3.0, 12] 4\n"
     ]
    }
   ],
   "source": [
    "r=[1., 15., 2., 3.]\n",
    "a=sum(r)\n",
    "print (a)\n",
    "\n",
    "r.pop(1)\n",
    "print(r)\n",
    "print (len(r))\n",
    "\n",
    "r.append( 12)\n",
    "print (r, len(r))"
   ]
  },
  {
   "cell_type": "code",
   "execution_count": 14,
   "metadata": {},
   "outputs": [
    {
     "name": "stdout",
     "output_type": "stream",
     "text": [
      "[77, 88, 101]\n",
      "[77, 88, 101, 22, 33]\n"
     ]
    }
   ],
   "source": [
    "l=[]\n",
    "l.append(77)\n",
    "l.append(88)\n",
    "l.append(101)\n",
    "print(l)\n",
    "\n",
    "k=[22, 33]\n",
    "c=l+k\n",
    "print (c)"
   ]
  },
  {
   "cell_type": "code",
   "execution_count": 16,
   "metadata": {},
   "outputs": [
    {
     "name": "stdout",
     "output_type": "stream",
     "text": [
      "[1 2 3]\n"
     ]
    }
   ],
   "source": [
    "import numpy as np\n",
    "b=[1, 2, 3]\n",
    "c=np.array(b)\n",
    "print(c)"
   ]
  },
  {
   "cell_type": "markdown",
   "metadata": {},
   "source": [
    "IF STATEMENT"
   ]
  },
  {
   "cell_type": "code",
   "execution_count": 22,
   "metadata": {},
   "outputs": [
    {
     "name": "stdout",
     "output_type": "stream",
     "text": [
      "Warning 12 is a number greater than 10\n",
      "let me fix it for you\n",
      "9\n"
     ]
    }
   ],
   "source": [
    "x=int(input(\"insert an integer no greater than 10: \"))\n",
    "if (x>10):\n",
    "    print (\"Warning\", x,\"is a number greater than 10\")\n",
    "    print (\"let me fix it for you\")\n",
    "    x=9\n",
    "    print(x)\n",
    "else:\n",
    "    print (\"good job\", x, \"is a number smaller than 10!\")\n",
    "\n",
    "\n"
   ]
  },
  {
   "cell_type": "markdown",
   "metadata": {},
   "source": [
    "WHILE STATEMENT"
   ]
  },
  {
   "cell_type": "code",
   "execution_count": 23,
   "metadata": {},
   "outputs": [
    {
     "name": "stdout",
     "output_type": "stream",
     "text": [
      "we are inside the if, x= 9\n",
      "we are inside the if, x= 8\n",
      "we are inside the if, x= 7\n",
      "we are inside the if, x= 6\n",
      "we are inside the if, x= 5\n",
      "we are inside the if, x= 4\n",
      "we are inside the if, x= 3\n",
      "we are inside the if, x= 2\n",
      "we are out of the if, x= 2\n"
     ]
    }
   ],
   "source": [
    "#x=10\n",
    "#if (X>2):\n",
    "   # x-=1\n",
    "    #print(\"we are inside the if, x=\", x)\n",
    "#print (\"we are out of the if, x=\", x)\n",
    "x=10\n",
    "while(x>2):\n",
    "    x-=1\n",
    "    print (\"we are inside the if, x=\", x)\n",
    "print (\"we are out of the if, x=\", x)\n"
   ]
  },
  {
   "cell_type": "code",
   "execution_count": 26,
   "metadata": {},
   "outputs": [
    {
     "name": "stdout",
     "output_type": "stream",
     "text": [
      "1.0\n",
      "3.0\n",
      "5.0\n",
      "loop ended\n"
     ]
    }
   ],
   "source": [
    "r=[1., 3., 5.]\n",
    "for i in range(len(r)): # loop over the integer i from 0 to len(r)\n",
    "    print(r[i])\n",
    "print(\"loop ended\")"
   ]
  }
 ],
 "metadata": {
  "kernelspec": {
   "display_name": "base",
   "language": "python",
   "name": "python3"
  },
  "language_info": {
   "codemirror_mode": {
    "name": "ipython",
    "version": 3
   },
   "file_extension": ".py",
   "mimetype": "text/x-python",
   "name": "python",
   "nbconvert_exporter": "python",
   "pygments_lexer": "ipython3",
   "version": "3.11.5"
  }
 },
 "nbformat": 4,
 "nbformat_minor": 2
}
