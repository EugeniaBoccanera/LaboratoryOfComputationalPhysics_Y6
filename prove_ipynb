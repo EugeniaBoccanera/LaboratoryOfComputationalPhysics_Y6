Prova file
import numpy as np
