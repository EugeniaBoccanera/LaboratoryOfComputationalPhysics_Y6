{
 "cells": [
  {
   "cell_type": "markdown",
   "metadata": {},
   "source": [
    "0\\. Implement a function (whatever you want) and save it to a file (e.g. `function.py`). Import that file and use that function in this notebook.\n"
   ]
  },
  {
   "cell_type": "code",
   "execution_count": 11,
   "metadata": {},
   "outputs": [
    {
     "name": "stdout",
     "output_type": "stream",
     "text": [
      "11025\n"
     ]
    }
   ],
   "source": [
    "import function as f\n",
    "risultato= f.func(15)\n",
    "#print (\"ltatoil risultato è: \", risultato)"
   ]
  },
  {
   "cell_type": "markdown",
   "metadata": {},
   "source": [
    "1\\. Write the following as a list comprehension"
   ]
  },
  {
   "cell_type": "markdown",
   "metadata": {},
   "source": []
  },
  {
   "cell_type": "code",
   "execution_count": 12,
   "metadata": {},
   "outputs": [
    {
     "name": "stdout",
     "output_type": "stream",
     "text": [
      "[(0, 0), (0, 1), (0, 2), (0, 3), (1, 0), (1, 1), (1, 2), (1, 3), (2, 0), (2, 1), (2, 2), (2, 3)]\n",
      "sol1= [(0, 0), (0, 1), (0, 2), (0, 3), (1, 0), (1, 1), (1, 2), (1, 3), (2, 0), (2, 1), (2, 2), (2, 3)]\n",
      "[0, 4, 16]\n",
      "sol2= [0, 4, 16]\n"
     ]
    }
   ],
   "source": [
    "# 1\n",
    "ans = []\n",
    "for i in range(3):\n",
    "    for j in range(4):\n",
    "        ans.append((i, j))\n",
    "print (ans)\n",
    "\n",
    "#risoluzione 1\n",
    "l=[(i,j) for i in range(0,3) for j in range(0,4) ]\n",
    "print(\"sol1=\", l)\n",
    "\n",
    "# 2\n",
    "ans = map(lambda x: x*x, filter(lambda x: x%2 == 0, range(5)))\n",
    "print (list(ans))\n",
    "\n",
    "#risoluzione 2\n",
    "L= [x*x for x in range(5) if x%2==0]\n",
    "print (\"sol2=\", L)\n"
   ]
  },
  {
   "cell_type": "markdown",
   "metadata": {},
   "source": [
    "2\\. Convert the following function into a pure function with no global variables or side effects"
   ]
  },
  {
   "cell_type": "code",
   "execution_count": 13,
   "metadata": {},
   "outputs": [
    {
     "name": "stdout",
     "output_type": "stream",
     "text": [
      "[1, 2, 3, 0, 1, 2, 3, 4]\n",
      "[1, 2, 3, 0, 1, 2, 3, 4]\n"
     ]
    }
   ],
   "source": [
    "x = 5\n",
    "def f(alist):\n",
    "    for i in range(x):\n",
    "         alist.append(i)\n",
    "    return alist\n",
    "\n",
    "alist = [1,2,3]\n",
    "ans = f(alist)\n",
    "print (ans)\n",
    "print (alist) # alist has been changed!"
   ]
  },
  {
   "cell_type": "code",
   "execution_count": 14,
   "metadata": {},
   "outputs": [
    {
     "name": "stdout",
     "output_type": "stream",
     "text": [
      "[7, 9, 11, 0, 1, 2, 3, 4]\n",
      "[7, 9, 11] note that has not been changed\n"
     ]
    }
   ],
   "source": [
    "# my code\n",
    "alist=[7, 9, 11]\n",
    "def f(x, alist):\n",
    "    l= alist.copy()\n",
    "    for i in range (x):\n",
    "        l.append(i)\n",
    "    return (l)\n",
    "\n",
    "\n",
    "ans=f(5,alist)\n",
    "print (ans)\n",
    "print(alist, \"note that has not been changed\")\n"
   ]
  },
  {
   "cell_type": "markdown",
   "metadata": {},
   "source": [
    "esempio per ricordarmelo:"
   ]
  },
  {
   "cell_type": "code",
   "execution_count": 15,
   "metadata": {},
   "outputs": [
    {
     "name": "stdout",
     "output_type": "stream",
     "text": [
      "Python is fantastic\n",
      "Python is awesome\n"
     ]
    }
   ],
   "source": [
    "x = \"awesome\"  #questa è una variabile globale, \n",
    "\n",
    "def myfunc():\n",
    "  x = \"fantastic\"  # questa è una variabile locale usata all'interno della funzione\n",
    "  print(\"Python is \" + x)\n",
    "\n",
    "myfunc()\n",
    "\n",
    "print(\"Python is \" + x)   #fuori della funzione la variabile non è stata cambiata"
   ]
  },
  {
   "cell_type": "markdown",
   "metadata": {},
   "source": [
    "3\\. Write a `decorator` hello that makes every wrapped function print “Hello!”, i.e. something like:\n",
    "\n",
    "```python\n",
    "@hello\n",
    "def square(x):\n",
    "    return x*x\n",
    "```\n",
    "\n"
   ]
  },
  {
   "cell_type": "code",
   "execution_count": 16,
   "metadata": {},
   "outputs": [
    {
     "name": "stdout",
     "output_type": "stream",
     "text": [
      "Hello\n",
      "144\n",
      "Hello\n"
     ]
    }
   ],
   "source": [
    "\n",
    "def hello(func):\n",
    "    def wrapper(*args, **kwargs):\n",
    "        print(\"Hello\")\n",
    "        print (func(*args, **kwargs))\n",
    "        print (\"Hello\")\n",
    "    \n",
    "    return wrapper\n",
    "\n",
    "# Applying the decorator using the @ syntax\n",
    "@hello                         #comando che sta al posto di square= Hello(square(x))\n",
    "def square(x):\n",
    "    return x * x\n",
    "\n",
    "square(12)\n",
    "\n"
   ]
  },
  {
   "cell_type": "markdown",
   "metadata": {},
   "source": [
    "4\\. Write the factorial function so that it a) does and b) does not use recursion."
   ]
  },
  {
   "cell_type": "code",
   "execution_count": 17,
   "metadata": {},
   "outputs": [
    {
     "name": "stdout",
     "output_type": "stream",
     "text": [
      "il fattoriale di 5  è 120\n",
      "il fattoriale di  5  senza ricursione è:\n"
     ]
    },
    {
     "data": {
      "text/plain": [
       "120"
      ]
     },
     "execution_count": 17,
     "metadata": {},
     "output_type": "execute_result"
    }
   ],
   "source": [
    "#a)\n",
    "def fact1(x):\n",
    "    if x==0:\n",
    "        return 1\n",
    "    else:\n",
    "        return x* fact1(x-1)\n",
    "x=5\n",
    "if x<0: \n",
    "    print (\"non si può fare il fattoriale di un numero negativo\")\n",
    "else:\n",
    "    result=fact1(x)\n",
    "    print(\"il fattoriale di\", x, \" è\", result )\n",
    "\n",
    "\n",
    "#b)  senza ricursione\n",
    "n=5\n",
    "def fact2(n):\n",
    "    result=1\n",
    "    for i in range(1, n+1):\n",
    "        result *= i\n",
    "    return result\n",
    "print (\"il fattoriale di \",n,\" senza ricursione è:\")\n",
    "fact2(n)\n"
   ]
  },
  {
   "cell_type": "markdown",
   "metadata": {},
   "source": [
    "5\\. Use HOFs (zip in particular) to compute the weight of a circle, a disk and a sphere, assuming different radii and different densities:\n",
    "\n",
    "```python\n",
    "densities = {\"Al\":[0.5,1,2],\"Fe\":[3,4,5],\"Pb\": [15,20,30]}\n",
    "radii = [1,2,3]\n",
    "```\n",
    "\n",
    "where the entries of the dictionary's values are the linear, superficial and volumetric densities of the materials respectively.\n",
    "\n",
    "In particular define a list of three lambda functions using a comprehension that computes the circumference, the area and the volume for a given radius.\n"
   ]
  },
  {
   "cell_type": "code",
   "execution_count": 3,
   "metadata": {},
   "outputs": [
    {
     "name": "stdout",
     "output_type": "stream",
     "text": [
      " i giusti accoppiamenti sono: cerchio A1 1\n",
      " i giusti accoppiamenti sono: disco Fe 2\n",
      " i giusti accoppiamenti sono: sfera Pb 3\n",
      "Materiale: A1\n",
      "Oggetto: cerchio , Mass: [3.141592653589793, 6.283185307179586, 9.42477796076938]\n",
      "Oggetto: disco , Mass: [3.141592653589793, 12.566370614359172, 28.274333882308138]\n",
      "Oggetto: sfera , Mass: [8.377580409572781, 67.02064327658225, 226.1946710584651]\n",
      "Materiale: Fe\n",
      "Oggetto: cerchio , Mass: [18.84955592153876, 37.69911184307752, 56.548667764616276]\n",
      "Oggetto: disco , Mass: [12.566370614359172, 50.26548245743669, 113.09733552923255]\n",
      "Oggetto: sfera , Mass: [20.94395102393195, 167.5516081914556, 565.4866776461628]\n",
      "Materiale: Pb\n",
      "Oggetto: cerchio , Mass: [94.24777960769379, 188.49555921538757, 282.7433388230814]\n",
      "Oggetto: disco , Mass: [62.83185307179586, 251.32741228718345, 565.4866776461628]\n",
      "Oggetto: sfera , Mass: [125.66370614359171, 1005.3096491487337, 3392.9200658769764]\n"
     ]
    }
   ],
   "source": [
    "# my code\n",
    "import math as m\n",
    "oggetto=['cerchio','disco', 'sfera']\n",
    "densità= {\"A1\": [0.5, 1, 2], \"Fe\":[3,4,5], \"Pb\": [15,20,30]}\n",
    "raggi= [1, 2, 3]\n",
    "for x, y, z in zip(oggetto, densità, raggi):\n",
    "    print (' i giusti accoppiamenti sono:', x, y, z)\n",
    "\n",
    "funcs = [lambda r: r*2*m.pi, lambda r:  r**2*m.pi, lambda r: 4*m.pi*r**3/3]\n",
    "\n",
    "for materiale in densità:\n",
    "    print(\"Materiale:\", materiale)\n",
    "    for i,[d, c] in enumerate(zip(densità[materiale], funcs)):\n",
    "        print(\"Oggetto:\", oggetto[i], \", Mass:\", [d*c(r) for r in raggi])"
   ]
  },
  {
   "cell_type": "markdown",
   "metadata": {},
   "source": [
    "6\\. Edit the class defintion to add an instance attribute of is_hungry = True to the Dog class. Then add a method called eat() which changes the value of is_hungry to False when called. Figure out the best way to feed each dog and then output “My dogs are hungry.” if all are hungry or “My dogs are not hungry.” if all are not hungry. The final output should look like this:\n",
    "\n",
    "`I have 3 dogs. \n",
    "Tom is 6. \n",
    "Fletcher is 7. \n",
    "Larry is 9. \n",
    "And they're all mammals, of course. \n",
    "My dogs are not hungry.\n",
    "`\n",
    "\n",
    "```python\n",
    "# Parent class\n",
    "class Dog:\n",
    "\n",
    "    # Class attribute\n",
    "    species = 'mammal'\n",
    "\n",
    "    # Initializer / Instance attributes\n",
    "    def __init__(self, name, age):\n",
    "        self.name = name\n",
    "        self.age = age\n",
    "\n",
    "    # instance method\n",
    "    def description(self):\n",
    "        return \"{} is {} years old\".format(self.name, self.age)\n",
    "\n",
    "    # instance method\n",
    "    def speak(self, sound):\n",
    "        return \"{} says {}\".format(self.name, sound)\n",
    "\n",
    "# Child class (inherits from Dog class)\n",
    "class RussellTerrier(Dog):\n",
    "    def run(self, speed):\n",
    "        return \"{} runs {}\".format(self.name, speed)\n",
    "\n",
    "# Child class (inherits from Dog class)\n",
    "class Bulldog(Dog):\n",
    "    def run(self, speed):\n",
    "        return \"{} runs {}\".format(self.name, speed)\n",
    "```"
   ]
  },
  {
   "cell_type": "code",
   "execution_count": 19,
   "metadata": {},
   "outputs": [],
   "source": [
    "# Parent class\n",
    "class Dog:\n",
    "\n",
    "    # Class attribute\n",
    "    species = 'mammal'\n",
    "\n",
    "    # Initializer / Instance attributes\n",
    "    def __init__(self, name, age):\n",
    "        self.name = name\n",
    "        self.age = age\n",
    "\n",
    "    # instance method\n",
    "    def description(self):\n",
    "        return \"{} is {} years old\".format(self.name, self.age)\n",
    "\n",
    "    # instance method\n",
    "    def speak(self, sound):\n",
    "        return \"{} says {}\".format(self.name, sound)\n",
    "\n",
    "# Child class (inherits from Dog class)\n",
    "class RussellTerrier(Dog):\n",
    "    def run(self, speed):\n",
    "        return \"{} runs {}\".format(self.name, speed)\n",
    "\n",
    "# Child class (inherits from Dog class)\n",
    "class Bulldog(Dog):\n",
    "    def run(self, speed):\n",
    "        return \"{} runs {}\".format(self.name, speed)"
   ]
  },
  {
   "cell_type": "code",
   "execution_count": 20,
   "metadata": {},
   "outputs": [
    {
     "name": "stdout",
     "output_type": "stream",
     "text": [
      "Tom is 6 years old\n",
      "Fletcher says Woof Woof\n",
      "Larry runs fast\n",
      "Tom runs slowly\n"
     ]
    }
   ],
   "source": [
    "dog1 = Dog(\"Tom\", 6)\n",
    "print(dog1.description())\n",
    "\n",
    "dog2 = Dog(\"Fletcher\", 7)\n",
    "print(dog2.speak(\"Woof Woof\"))\n",
    "\n",
    "dog3 = Dog(\"Larry\", 9)\n",
    "print(RussellTerrier.run(dog3, \"fast\"))\n",
    "\n",
    "print(Bulldog.run(dog1, \"slowly\"))"
   ]
  },
  {
   "cell_type": "code",
   "execution_count": 4,
   "metadata": {},
   "outputs": [
    {
     "ename": "NameError",
     "evalue": "name 'hungry' is not defined",
     "output_type": "error",
     "traceback": [
      "\u001b[1;31m---------------------------------------------------------------------------\u001b[0m",
      "\u001b[1;31mNameError\u001b[0m                                 Traceback (most recent call last)",
      "\u001b[1;32md:\\Eugenia\\Documents\\LaboratoryOfComputationalPhysics_Y6\\01ex_Fundamentals.ipynb Cell 20\u001b[0m line \u001b[0;36m6\n\u001b[0;32m     <a href='vscode-notebook-cell:/d%3A/Eugenia/Documents/LaboratoryOfComputationalPhysics_Y6/01ex_Fundamentals.ipynb#X25sZmlsZQ%3D%3D?line=56'>57</a>\u001b[0m     dog\u001b[39m.\u001b[39meat()\n\u001b[0;32m     <a href='vscode-notebook-cell:/d%3A/Eugenia/Documents/LaboratoryOfComputationalPhysics_Y6/01ex_Fundamentals.ipynb#X25sZmlsZQ%3D%3D?line=59'>60</a>\u001b[0m \u001b[39m# print dog descriptions\u001b[39;00m\n\u001b[0;32m     <a href='vscode-notebook-cell:/d%3A/Eugenia/Documents/LaboratoryOfComputationalPhysics_Y6/01ex_Fundamentals.ipynb#X25sZmlsZQ%3D%3D?line=60'>61</a>\u001b[0m \u001b[39mprint\u001b[39m(\u001b[39m\"\u001b[39m\u001b[39mI have \u001b[39m\u001b[39m%d\u001b[39;00m\u001b[39m dogs. \u001b[39m\u001b[39m%s\u001b[39;00m\u001b[39m. \u001b[39m\u001b[39m%s\u001b[39;00m\u001b[39m. \u001b[39m\u001b[39m%s\u001b[39;00m\u001b[39m. And they\u001b[39m\u001b[39m'\u001b[39m\u001b[39mre all \u001b[39m\u001b[39m%s\u001b[39;00m\u001b[39m, of course. \u001b[39m\u001b[39m%s\u001b[39;00m\u001b[39m\"\u001b[39m \u001b[39m%\u001b[39m \n\u001b[1;32m---> <a href='vscode-notebook-cell:/d%3A/Eugenia/Documents/LaboratoryOfComputationalPhysics_Y6/01ex_Fundamentals.ipynb#X25sZmlsZQ%3D%3D?line=61'>62</a>\u001b[0m       (Dog\u001b[39m.\u001b[39mcounter, dog1\u001b[39m.\u001b[39mdescription(), dog2\u001b[39m.\u001b[39mdescription(), dog3\u001b[39m.\u001b[39mdescription(), Dog\u001b[39m.\u001b[39mspecies, hungry()))\n",
      "\u001b[1;31mNameError\u001b[0m: name 'hungry' is not defined"
     ]
    }
   ],
   "source": [
    "# Parent class\n",
    "class Dog:\n",
    "\n",
    "    # Class attribute\n",
    "    species = 'mammal'\n",
    "    counter = 0\n",
    "    instances=[]\n",
    "\n",
    "\n",
    "    # Initializer / Instance attributes\n",
    "    def __init__(self, name, age, is_hungry=True):\n",
    "        self.name = name\n",
    "        self.age = age\n",
    "        self.is_hungry = True\n",
    "\n",
    "        Dog.counter += 1\n",
    "        # self.id=Dog.counter\n",
    "\n",
    "        self.__class__.instances.append(self)\n",
    "\n",
    "    # instance method\n",
    "    def description(self):\n",
    "        return \"{} is {} years old\".format(self.name, self.age)\n",
    "\n",
    "    # instance method\n",
    "    def speak(self, sound):\n",
    "        return \"{} says {}\".format(self.name, sound)\n",
    "\n",
    "    # instance method\n",
    "    def eat(self):\n",
    "        self.is_hungry = False\n",
    "\n",
    "    # check if all dogs are hungry\n",
    "    def hungry():\n",
    "        if all([dog.is_hungry for dog in Dog.instances]):\n",
    "            return \"My dogs are hungry.\"\n",
    "        else:\n",
    "            return \"My dogs are not hungry.\"\n",
    "\n",
    "# Child class (inherits from Dog class)\n",
    "class RussellTerrier(Dog):\n",
    "    def run(self, speed):\n",
    "        return \"{} runs {}\".format(self.name, speed)\n",
    "\n",
    "# Child class (inherits from Dog class)\n",
    "class Bulldog(Dog):\n",
    "    def run(self, speed):\n",
    "        return \"{} runs {}\".format(self.name, speed)\n",
    "\n",
    "# create dog objects\n",
    "dog1 = Dog(\"Tom\", 6)\n",
    "dog2 = Dog(\"Fletcher\", 7)\n",
    "dog3 = Dog(\"Larry\", 9)\n",
    "\n",
    "# feed the dogs\n",
    "for dog in Dog.instances:\n",
    "    dog.eat()\n",
    "\n",
    "\n",
    "# print dog descriptions\n",
    "print(\"I have %d dogs. %s. %s. %s. And they're all %s, of course. %s\" % \n",
    "      (Dog.counter, dog1.description(), dog2.description(), dog3.description(), Dog.species, hungry()))"
   ]
  }
 ],
 "metadata": {
  "kernelspec": {
   "display_name": "Python 3 (ipykernel)",
   "language": "python",
   "name": "python3"
  },
  "language_info": {
   "codemirror_mode": {
    "name": "ipython",
    "version": 3
   },
   "file_extension": ".py",
   "mimetype": "text/x-python",
   "name": "python",
   "nbconvert_exporter": "python",
   "pygments_lexer": "ipython3",
   "version": "3.11.5"
  }
 },
 "nbformat": 4,
 "nbformat_minor": 2
}
